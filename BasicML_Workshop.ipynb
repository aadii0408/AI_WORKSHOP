{
  "nbformat": 4,
  "nbformat_minor": 0,
  "metadata": {
    "colab": {
      "provenance": []
    },
    "kernelspec": {
      "name": "python3",
      "display_name": "Python 3"
    },
    "language_info": {
      "name": "python"
    }
  },
  "cells": [
    {
      "cell_type": "code",
      "source": [
        "!pip install keras"
      ],
      "metadata": {
        "colab": {
          "base_uri": "https://localhost:8080/"
        },
        "id": "hpsDs50D9zPV",
        "outputId": "191c5a1c-aa20-4a9b-c87d-5d047f5f1953"
      },
      "execution_count": null,
      "outputs": [
        {
          "output_type": "stream",
          "name": "stdout",
          "text": [
            "Requirement already satisfied: keras in /usr/local/lib/python3.11/dist-packages (3.5.0)\n",
            "Requirement already satisfied: absl-py in /usr/local/lib/python3.11/dist-packages (from keras) (1.4.0)\n",
            "Requirement already satisfied: numpy in /usr/local/lib/python3.11/dist-packages (from keras) (1.26.4)\n",
            "Requirement already satisfied: rich in /usr/local/lib/python3.11/dist-packages (from keras) (13.9.4)\n",
            "Requirement already satisfied: namex in /usr/local/lib/python3.11/dist-packages (from keras) (0.0.8)\n",
            "Requirement already satisfied: h5py in /usr/local/lib/python3.11/dist-packages (from keras) (3.12.1)\n",
            "Requirement already satisfied: optree in /usr/local/lib/python3.11/dist-packages (from keras) (0.14.0)\n",
            "Requirement already satisfied: ml-dtypes in /usr/local/lib/python3.11/dist-packages (from keras) (0.4.1)\n",
            "Requirement already satisfied: packaging in /usr/local/lib/python3.11/dist-packages (from keras) (24.2)\n",
            "Requirement already satisfied: typing-extensions>=4.5.0 in /usr/local/lib/python3.11/dist-packages (from optree->keras) (4.12.2)\n",
            "Requirement already satisfied: markdown-it-py>=2.2.0 in /usr/local/lib/python3.11/dist-packages (from rich->keras) (3.0.0)\n",
            "Requirement already satisfied: pygments<3.0.0,>=2.13.0 in /usr/local/lib/python3.11/dist-packages (from rich->keras) (2.18.0)\n",
            "Requirement already satisfied: mdurl~=0.1 in /usr/local/lib/python3.11/dist-packages (from markdown-it-py>=2.2.0->rich->keras) (0.1.2)\n"
          ]
        }
      ]
    },
    {
      "cell_type": "code",
      "execution_count": null,
      "metadata": {
        "colab": {
          "base_uri": "https://localhost:8080/"
        },
        "id": "E4SzhgC78wwq",
        "outputId": "ef607b92-4e3b-4560-f9bc-5701368b1e35"
      },
      "outputs": [
        {
          "output_type": "stream",
          "name": "stdout",
          "text": [
            "K-Means Clustering Labels: [0 1 2]\n",
            "\n",
            "Decision Tree Accuracy: 0.9666666666666667\n",
            "\n",
            "Decision Tree Classification Report:\n",
            "               precision    recall  f1-score   support\n",
            "\n",
            "           0       1.00      1.00      1.00        10\n",
            "           1       1.00      0.90      0.95        10\n",
            "           2       0.91      1.00      0.95        10\n",
            "\n",
            "    accuracy                           0.97        30\n",
            "   macro avg       0.97      0.97      0.97        30\n",
            "weighted avg       0.97      0.97      0.97        30\n",
            "\n",
            "\n",
            "Decision Tree Precision: 0.9696969696969696\n",
            "\n",
            "Decision Tree Recall: 0.9666666666666667\n",
            "\n",
            "Decision Tree Cross-Validation Accuracy: 0.9733333333333334\n",
            "\n",
            "Decision Tree Cross-Validation Standard Deviation: 0.02494438257849294\n"
          ]
        },
        {
          "output_type": "stream",
          "name": "stderr",
          "text": [
            "/usr/local/lib/python3.11/dist-packages/keras/src/layers/core/dense.py:87: UserWarning: Do not pass an `input_shape`/`input_dim` argument to a layer. When using Sequential models, prefer using an `Input(shape)` object as the first layer in the model instead.\n",
            "  super().__init__(activity_regularizer=activity_regularizer, **kwargs)\n"
          ]
        },
        {
          "output_type": "stream",
          "name": "stdout",
          "text": [
            "\n",
            "ANN Accuracy: 0.9333333373069763\n"
          ]
        }
      ],
      "source": [
        "# Import necessary libraries\n",
        "\n",
        "from sklearn import datasets\n",
        "from sklearn.model_selection import train_test_split\n",
        "from sklearn.preprocessing import StandardScaler\n",
        "from sklearn.cluster import KMeans\n",
        "from sklearn.tree import DecisionTreeClassifier\n",
        "from sklearn.metrics import precision_score, recall_score, f1_score\n",
        "from sklearn.metrics import accuracy_score, classification_report\n",
        "from tensorflow.keras.models import Sequential\n",
        "from tensorflow.keras.layers import Dense\n",
        "from sklearn.model_selection import cross_val_score\n",
        "from graphviz import Source\n",
        "from IPython.display import Image\n",
        "import numpy as np\n",
        "\n",
        "\n",
        "import warnings\n",
        "warnings.filterwarnings(\"ignore\")\n",
        "\n",
        "# Load the Iris dataset\n",
        "iris = datasets.load_iris()\n",
        "data = iris.data\n",
        "target = iris.target\n",
        "\n",
        "# Split the data into training and testing sets\n",
        "X_train, X_test, y_train, y_test = train_test_split(data, target, test_size=0.2, random_state=42, stratify=target)\n",
        "\n",
        "# Normalize the data for ANN\n",
        "scaler = StandardScaler()\n",
        "X_train_scaled = scaler.fit_transform(X_train)\n",
        "X_test_scaled = scaler.transform(X_test)\n",
        "\n",
        "# 1. K-Means Clustering\n",
        "kmeans = KMeans(n_clusters=3, random_state=42)\n",
        "kmeans.fit(data)\n",
        "kmeans_labels = kmeans.labels_\n",
        "print(\"K-Means Clustering Labels:\", np.unique(kmeans_labels))\n",
        "\n",
        "# 2. Decision Tree Classifier\n",
        "clf = DecisionTreeClassifier(random_state=42, max_depth=3)\n",
        "clf.fit(X_train, y_train)\n",
        "dt_predictions = clf.predict(X_test)\n",
        "print(\"\\nDecision Tree Accuracy:\", accuracy_score(y_test, dt_predictions))\n",
        "print(\"\\nDecision Tree Classification Report:\\n\", classification_report(y_test, dt_predictions))\n",
        "print(\"\\nDecision Tree Precision:\", precision_score(y_test, dt_predictions, average='weighted'))\n",
        "print(\"\\nDecision Tree Recall:\", recall_score(y_test, dt_predictions, average='weighted'))\n",
        "scores = cross_val_score(clf, data, target, cv=5)\n",
        "print(\"\\nDecision Tree Cross-Validation Accuracy:\", scores.mean())\n",
        "print(\"\\nDecision Tree Cross-Validation Standard Deviation:\", scores.std())\n",
        "\n",
        "# 3. Artificial Neural Network (ANN)\n",
        "# Build the ANN model\n",
        "model = Sequential([\n",
        "    Dense(64, input_dim=X_train_scaled.shape[1], activation='relu'),\n",
        "    Dense(32, activation='relu'),\n",
        "    Dense(3, activation='softmax')\n",
        "])\n",
        "\n",
        "# Compile the model\n",
        "model.compile(optimizer='adam', loss='sparse_categorical_crossentropy', metrics=['accuracy'])\n",
        "\n",
        "# Train the ANN model\n",
        "model.fit(X_train_scaled, y_train, epochs=50, batch_size=8, verbose=0)\n",
        "\n",
        "# Evaluate the ANN model\n",
        "loss, accuracy = model.evaluate(X_test_scaled, y_test, verbose=0)\n",
        "print(\"\\nANN Accuracy:\", accuracy)\n"
      ]
    },
    {
      "cell_type": "code",
      "source": [],
      "metadata": {
        "id": "WclWJBnC8x7P"
      },
      "execution_count": null,
      "outputs": []
    }
  ]
}